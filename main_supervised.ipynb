{
 "cells": [
  {
   "cell_type": "markdown",
   "id": "2fa50f2a",
   "metadata": {},
   "source": [
    "# Clasificación Supervisada de Perfiles de Usuario\n",
    "Este notebook ejecuta el script principal de clasificación supervisada usando Random Forest. Utiliza datos de la base de datos local y muestra el reporte de clasificación."
   ]
  },
  {
   "cell_type": "code",
   "execution_count": null,
   "id": "f03487fb",
   "metadata": {
    "vscode": {
     "languageId": "python"
    }
   },
   "outputs": [],
   "source": [
    "# Importar y ejecutar el modelo supervisado\n",
    "from main_supervised import run_model\n",
    "output = run_model()\n",
    "print('Reporte de clasificación:')\n",
    "import json\n",
    "print(json.dumps(output['classification_report'], indent=2))"
   ]
  },
  {
   "cell_type": "markdown",
   "id": "42222cf6",
   "metadata": {},
   "source": [
    "## Predicciones por usuario\n",
    "Se muestran las predicciones reales y estimadas para cada usuario."
   ]
  },
  {
   "cell_type": "code",
   "execution_count": null,
   "id": "4d510421",
   "metadata": {
    "vscode": {
     "languageId": "python"
    }
   },
   "outputs": [],
   "source": [
    "for pred in output['predictions']:\n",
    "    print(f\"Usuario: {pred['userId']} | Real: {pred['realProfile']} | Predicho: {pred['predictedProfile']}\")"
   ]
  }
 ],
 "metadata": {
  "language_info": {
   "name": "csharp"
  }
 },
 "nbformat": 4,
 "nbformat_minor": 5
}
