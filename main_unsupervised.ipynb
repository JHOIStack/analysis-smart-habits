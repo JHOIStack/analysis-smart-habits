{
 "cells": [
  {
   "cell_type": "markdown",
   "id": "92a119b4",
   "metadata": {},
   "source": [
    "# Análisis No Supervisado de Usuarios\n",
    "Este notebook ejecuta el script principal de clustering no supervisado y muestra los resultados de agrupamiento de usuarios."
   ]
  },
  {
   "cell_type": "code",
   "execution_count": null,
   "id": "51618c3b",
   "metadata": {
    "vscode": {
     "languageId": "python"
    }
   },
   "outputs": [],
   "source": [
    "# Importar y ejecutar el modelo de clustering\n",
    "from main_unsupervised import cluster_profiles\n",
    "results = cluster_profiles()\n",
    "import json\n",
    "print(json.dumps(results, indent=2))"
   ]
  },
  {
   "cell_type": "markdown",
   "id": "7897a984",
   "metadata": {},
   "source": [
    "## Visualización local\n",
    "Para visualizar los resultados en mapas o gráficos 3D, ejecuta los scripts `visualizations/map.py` y `visualizations/visuals.py` en tu entorno local. También puedes abrir el archivo `mexico_users_map.html` para ver el mapa generado."
   ]
  }
 ],
 "metadata": {
  "language_info": {
   "name": "csharp"
  }
 },
 "nbformat": 4,
 "nbformat_minor": 5
}
